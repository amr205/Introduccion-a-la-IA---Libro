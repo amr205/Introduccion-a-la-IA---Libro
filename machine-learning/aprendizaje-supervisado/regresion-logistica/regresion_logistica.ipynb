{
  "nbformat": 4,
  "nbformat_minor": 0,
  "metadata": {
    "colab": {
      "name": "regresion_logistica.ipynb",
      "provenance": [],
      "collapsed_sections": []
    },
    "kernelspec": {
      "name": "python3",
      "display_name": "Python 3"
    }
  },
  "cells": [
    {
      "cell_type": "markdown",
      "metadata": {
        "id": "7E8HdmFeHdJC"
      },
      "source": [
        "# Regresión logística\n"
      ]
    },
    {
      "cell_type": "code",
      "metadata": {
        "id": "JzA365XBFmy5"
      },
      "source": [
        "import numpy as np\n",
        "from sklearn.linear_model import LogisticRegression"
      ],
      "execution_count": 1,
      "outputs": []
    },
    {
      "cell_type": "markdown",
      "metadata": {
        "id": "LgmpfdBUHl8s"
      },
      "source": [
        "### Crear datos para crear el modelo"
      ]
    },
    {
      "cell_type": "code",
      "metadata": {
        "id": "uEnzMpKzGKYX"
      },
      "source": [
        "entrada = np.array([[0.7,2.1],[3.4,4.3],[1,1],[2.1,1.7],[5,5],[6,3.2],[3.2,0.6],[8.2,1.9]])\n",
        "salida = np.array([ [1],[0],[1],[1],[0],[0],[1],[0]])\n",
        "nuevas_instancias = np.array([[6.4,1.4],[1,1]])"
      ],
      "execution_count": 3,
      "outputs": []
    },
    {
      "cell_type": "markdown",
      "metadata": {
        "id": "r4mvRlvmHuux"
      },
      "source": [
        "### Crear el modelo, entrenarlo y visualizar los parámetros"
      ]
    },
    {
      "cell_type": "code",
      "metadata": {
        "id": "0KXrmKbIG0-A",
        "colab": {
          "base_uri": "https://localhost:8080/"
        },
        "outputId": "0deae8e7-b5a0-42ca-8113-05a1d2077726"
      },
      "source": [
        "reg = LogisticRegression().fit(entrada, salida)\n",
        "\n",
        "print(reg.coef_)\n",
        "print(reg.intercept_)"
      ],
      "execution_count": 4,
      "outputs": [
        {
          "output_type": "stream",
          "text": [
            "[[-0.82934676 -0.86932631]]\n",
            "[5.15832844]\n"
          ],
          "name": "stdout"
        },
        {
          "output_type": "stream",
          "text": [
            "/usr/local/lib/python3.6/dist-packages/sklearn/utils/validation.py:760: DataConversionWarning: A column-vector y was passed when a 1d array was expected. Please change the shape of y to (n_samples, ), for example using ravel().\n",
            "  y = column_or_1d(y, warn=True)\n"
          ],
          "name": "stderr"
        }
      ]
    },
    {
      "cell_type": "markdown",
      "metadata": {
        "id": "eqjokHfWHzf7"
      },
      "source": [
        "### Predecir el valor de nuevas instancias"
      ]
    },
    {
      "cell_type": "code",
      "metadata": {
        "id": "2jGypvFjHNln",
        "colab": {
          "base_uri": "https://localhost:8080/"
        },
        "outputId": "2f595977-9d7f-47f1-ea5f-9691ce0bb0c1"
      },
      "source": [
        "reg.predict(nuevas_instancias)"
      ],
      "execution_count": 5,
      "outputs": [
        {
          "output_type": "execute_result",
          "data": {
            "text/plain": [
              "array([0, 1])"
            ]
          },
          "metadata": {
            "tags": []
          },
          "execution_count": 5
        }
      ]
    }
  ]
}