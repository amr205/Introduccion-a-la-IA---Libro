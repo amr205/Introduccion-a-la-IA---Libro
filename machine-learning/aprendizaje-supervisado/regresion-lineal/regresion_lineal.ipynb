{
  "nbformat": 4,
  "nbformat_minor": 0,
  "metadata": {
    "colab": {
      "name": "Regresion-lineal.ipynb",
      "provenance": []
    },
    "kernelspec": {
      "name": "python3",
      "display_name": "Python 3"
    }
  },
  "cells": [
    {
      "cell_type": "markdown",
      "metadata": {
        "id": "7E8HdmFeHdJC"
      },
      "source": [
        "# Regresión lineal\n"
      ]
    },
    {
      "cell_type": "code",
      "metadata": {
        "id": "JzA365XBFmy5"
      },
      "source": [
        "import numpy as np\n",
        "from sklearn.linear_model import LinearRegression"
      ],
      "execution_count": 1,
      "outputs": []
    },
    {
      "cell_type": "markdown",
      "metadata": {
        "id": "LgmpfdBUHl8s"
      },
      "source": [
        "### Crear datos para crear el modelo"
      ]
    },
    {
      "cell_type": "code",
      "metadata": {
        "id": "uEnzMpKzGKYX"
      },
      "source": [
        "entrada = np.array([[0.54],[1.14],[2.08],[3.5],[8.64],[9.38],[10]])\n",
        "salida = np.array([ [2.06],[2.68],[2.66],[3.6],[5.26],[6.04],[6]])\n",
        "nuevas_instancias = np.array([[5.92],[7]])"
      ],
      "execution_count": 2,
      "outputs": []
    },
    {
      "cell_type": "markdown",
      "metadata": {
        "id": "r4mvRlvmHuux"
      },
      "source": [
        "### Crear el modelo, entrenarlo y visualizar los parámetros"
      ]
    },
    {
      "cell_type": "code",
      "metadata": {
        "id": "0KXrmKbIG0-A",
        "outputId": "550e9b29-4c83-4533-ad63-6591fcc8b8b1",
        "colab": {
          "base_uri": "https://localhost:8080/",
          "height": 55
        }
      },
      "source": [
        "reg = LinearRegression().fit(entrada, salida)\n",
        "\n",
        "print(reg.coef_)\n",
        "print(reg.intercept_)"
      ],
      "execution_count": 3,
      "outputs": [
        {
          "output_type": "stream",
          "text": [
            "[[0.40557178]]\n",
            "[1.99877536]\n"
          ],
          "name": "stdout"
        }
      ]
    },
    {
      "cell_type": "markdown",
      "metadata": {
        "id": "eqjokHfWHzf7"
      },
      "source": [
        "### Predecir el valor de nuevas instancias"
      ]
    },
    {
      "cell_type": "code",
      "metadata": {
        "id": "2jGypvFjHNln",
        "outputId": "c761eb48-65c9-4a8d-a14e-ba90abbd109d",
        "colab": {
          "base_uri": "https://localhost:8080/",
          "height": 55
        }
      },
      "source": [
        "reg.predict(nuevas_instancias)"
      ],
      "execution_count": 4,
      "outputs": [
        {
          "output_type": "execute_result",
          "data": {
            "text/plain": [
              "array([[4.39976031],\n",
              "       [4.83777783]])"
            ]
          },
          "metadata": {
            "tags": []
          },
          "execution_count": 4
        }
      ]
    },
    {
      "cell_type": "markdown",
      "metadata": {
        "id": "WijpDMpLKEUu"
      },
      "source": [
        "\n",
        "\n",
        "---\n",
        "\n",
        "\n",
        "# Regresión lineal con regularización L2\n",
        "\n"
      ]
    },
    {
      "cell_type": "code",
      "metadata": {
        "id": "I41DcbNJKIeK"
      },
      "source": [
        "from sklearn.linear_model import Ridge"
      ],
      "execution_count": 5,
      "outputs": []
    },
    {
      "cell_type": "code",
      "metadata": {
        "id": "_agRMhSFKfzd",
        "outputId": "6cb11fa6-fc89-4156-e91b-4c230de4563c",
        "colab": {
          "base_uri": "https://localhost:8080/",
          "height": 55
        }
      },
      "source": [
        "regL2 = Ridge(alpha=1).fit(entrada, salida)\n",
        "\n",
        "print(regL2.coef_)\n",
        "print(regL2.intercept_)"
      ],
      "execution_count": 6,
      "outputs": [
        {
          "output_type": "stream",
          "text": [
            "[[0.40167169]]\n",
            "[2.01843181]\n"
          ],
          "name": "stdout"
        }
      ]
    },
    {
      "cell_type": "code",
      "metadata": {
        "id": "9CrAHKZDKo10",
        "outputId": "cbc4e3af-23f2-4e38-b578-be72961281a9",
        "colab": {
          "base_uri": "https://localhost:8080/",
          "height": 55
        }
      },
      "source": [
        "regL2.predict(nuevas_instancias)"
      ],
      "execution_count": 7,
      "outputs": [
        {
          "output_type": "execute_result",
          "data": {
            "text/plain": [
              "array([[4.39632823],\n",
              "       [4.83013366]])"
            ]
          },
          "metadata": {
            "tags": []
          },
          "execution_count": 7
        }
      ]
    },
    {
      "cell_type": "markdown",
      "metadata": {
        "id": "Zu7X4zS4KysR"
      },
      "source": [
        "---\n",
        "\n",
        "# Regresión lineal con regularización L1"
      ]
    },
    {
      "cell_type": "code",
      "metadata": {
        "id": "WNxER2IGKrVX"
      },
      "source": [
        "from sklearn.linear_model import Lasso"
      ],
      "execution_count": 8,
      "outputs": []
    },
    {
      "cell_type": "code",
      "metadata": {
        "id": "DquTG0kPLAyW",
        "outputId": "f1efa28e-cfea-4444-e025-b63626f12b36",
        "colab": {
          "base_uri": "https://localhost:8080/",
          "height": 55
        }
      },
      "source": [
        "regL1 = Lasso(alpha=1).fit(entrada, salida)\n",
        "\n",
        "print(regL1.coef_)\n",
        "print(regL1.intercept_)"
      ],
      "execution_count": 9,
      "outputs": [
        {
          "output_type": "stream",
          "text": [
            "[0.33760428]\n",
            "[2.34133156]\n"
          ],
          "name": "stdout"
        }
      ]
    },
    {
      "cell_type": "code",
      "metadata": {
        "id": "a83J51cXLF9P",
        "outputId": "fca74b28-8b32-49cb-8d39-963835d059a5",
        "colab": {
          "base_uri": "https://localhost:8080/",
          "height": 36
        }
      },
      "source": [
        "regL1.predict(nuevas_instancias)"
      ],
      "execution_count": 10,
      "outputs": [
        {
          "output_type": "execute_result",
          "data": {
            "text/plain": [
              "array([4.33994891, 4.70456153])"
            ]
          },
          "metadata": {
            "tags": []
          },
          "execution_count": 10
        }
      ]
    },
    {
      "cell_type": "code",
      "metadata": {
        "id": "0HJ_NouiLIkI"
      },
      "source": [
        ""
      ],
      "execution_count": null,
      "outputs": []
    }
  ]
}