{
  "nbformat": 4,
  "nbformat_minor": 0,
  "metadata": {
    "colab": {
      "name": "Regresion-lineal.ipynb",
      "provenance": []
    },
    "kernelspec": {
      "name": "python3",
      "display_name": "Python 3"
    }
  },
  "cells": [
    {
      "cell_type": "markdown",
      "metadata": {
        "id": "7E8HdmFeHdJC"
      },
      "source": [
        "# Regresión lineal"
      ]
    },
    {
      "cell_type": "code",
      "metadata": {
        "id": "JzA365XBFmy5"
      },
      "source": [
        "import numpy as np\n",
        "from sklearn.linear_model import LinearRegression"
      ],
      "execution_count": 1,
      "outputs": []
    },
    {
      "cell_type": "markdown",
      "metadata": {
        "id": "LgmpfdBUHl8s"
      },
      "source": [
        "### Crear datos para crear el modelo"
      ]
    },
    {
      "cell_type": "code",
      "metadata": {
        "id": "uEnzMpKzGKYX"
      },
      "source": [
        "entrada = np.array([[0.54],[1.14],[2.08],[3.5],[8.64],[9.38],[10]])\n",
        "salida = np.array([ [2.06],[2.68],[2.66],[3.6],[5.26],[6.04],[6]])\n",
        "nuevas_instancias = np.array([[5.92],[7]])"
      ],
      "execution_count": 2,
      "outputs": []
    },
    {
      "cell_type": "markdown",
      "metadata": {
        "id": "r4mvRlvmHuux"
      },
      "source": [
        "### Crear el modelo, entrenarlo y visualizar los parámetros"
      ]
    },
    {
      "cell_type": "code",
      "metadata": {
        "id": "0KXrmKbIG0-A",
        "outputId": "550e9b29-4c83-4533-ad63-6591fcc8b8b1",
        "colab": {
          "base_uri": "https://localhost:8080/",
          "height": 55
        }
      },
      "source": [
        "reg = LinearRegression().fit(entrada, salida)\n",
        "\n",
        "print(reg.coef_)\n",
        "print(reg.intercept_)"
      ],
      "execution_count": 3,
      "outputs": [
        {
          "output_type": "stream",
          "text": [
            "[[0.40557178]]\n",
            "[1.99877536]\n"
          ],
          "name": "stdout"
        }
      ]
    },
    {
      "cell_type": "markdown",
      "metadata": {
        "id": "eqjokHfWHzf7"
      },
      "source": [
        "### Predecir el valor de nuevas instancias"
      ]
    },
    {
      "cell_type": "code",
      "metadata": {
        "id": "2jGypvFjHNln",
        "outputId": "c761eb48-65c9-4a8d-a14e-ba90abbd109d",
        "colab": {
          "base_uri": "https://localhost:8080/",
          "height": 55
        }
      },
      "source": [
        "reg.predict(nuevas_instancias)"
      ],
      "execution_count": 4,
      "outputs": [
        {
          "output_type": "execute_result",
          "data": {
            "text/plain": [
              "array([[4.39976031],\n",
              "       [4.83777783]])"
            ]
          },
          "metadata": {
            "tags": []
          },
          "execution_count": 4
        }
      ]
    }
  ]
}