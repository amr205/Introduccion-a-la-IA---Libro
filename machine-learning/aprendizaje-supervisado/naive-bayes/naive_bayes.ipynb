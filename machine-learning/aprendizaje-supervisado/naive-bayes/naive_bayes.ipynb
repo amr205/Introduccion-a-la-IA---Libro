{
  "nbformat": 4,
  "nbformat_minor": 0,
  "metadata": {
    "colab": {
      "name": "nbc_classification.ipynb",
      "provenance": [],
      "toc_visible": true
    },
    "kernelspec": {
      "name": "python3",
      "display_name": "Python 3"
    }
  },
  "cells": [
    {
      "cell_type": "markdown",
      "metadata": {
        "id": "HsBnyfZC0Sgp"
      },
      "source": [
        "# Clasificación mediante clasificador bayesiano ingenuo (Naive Bayes Classifier)"
      ]
    },
    {
      "cell_type": "code",
      "metadata": {
        "id": "czSKq6qt0Xke"
      },
      "source": [
        "import numpy as np\n",
        "from sklearn.naive_bayes import GaussianNB\n",
        "import pandas as pd"
      ],
      "execution_count": 1,
      "outputs": []
    },
    {
      "cell_type": "markdown",
      "metadata": {
        "id": "-DW-34mo1TcB"
      },
      "source": [
        "### Crear variables iniciales"
      ]
    },
    {
      "cell_type": "markdown",
      "metadata": {
        "id": "woPUXfGtqpbp"
      },
      "source": [
        "Aqui para usar el csv, hay que cargarlo"
      ]
    },
    {
      "cell_type": "code",
      "metadata": {
        "id": "wfQApHYDn1po"
      },
      "source": [
        "df = pd.read_csv('data.csv')\n",
        "x = df.drop('diabetes',axis=1)\n",
        "y = df['diabetes']"
      ],
      "execution_count": 2,
      "outputs": []
    },
    {
      "cell_type": "markdown",
      "metadata": {
        "id": "ibxcoBTe1Wrx"
      },
      "source": [
        "### Crear y entrenar modelo"
      ]
    },
    {
      "cell_type": "code",
      "metadata": {
        "id": "gVCDuzx_1Vmx",
        "colab": {
          "base_uri": "https://localhost:8080/"
        },
        "outputId": "36604025-47ce-4839-9839-fc882d420119"
      },
      "source": [
        "model = GaussianNB()\n",
        "model.fit(x,y)"
      ],
      "execution_count": 3,
      "outputs": [
        {
          "output_type": "execute_result",
          "data": {
            "text/plain": [
              "GaussianNB(priors=None, var_smoothing=1e-09)"
            ]
          },
          "metadata": {
            "tags": []
          },
          "execution_count": 3
        }
      ]
    },
    {
      "cell_type": "markdown",
      "metadata": {
        "id": "KA9JJhiD1rLE"
      },
      "source": [
        "### Realizar predicciones"
      ]
    },
    {
      "cell_type": "code",
      "metadata": {
        "id": "YppvG9Hs1pPP",
        "colab": {
          "base_uri": "https://localhost:8080/"
        },
        "outputId": "c44108ca-5cb6-4be8-d284-efb4060aeedd"
      },
      "source": [
        "model.predict([[45,63]])"
      ],
      "execution_count": 4,
      "outputs": [
        {
          "output_type": "execute_result",
          "data": {
            "text/plain": [
              "array([1])"
            ]
          },
          "metadata": {
            "tags": []
          },
          "execution_count": 4
        }
      ]
    }
  ]
}