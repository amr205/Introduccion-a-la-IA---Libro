{
  "nbformat": 4,
  "nbformat_minor": 0,
  "metadata": {
    "colab": {
      "name": "kernel_regression.ipynb",
      "provenance": []
    },
    "kernelspec": {
      "name": "python3",
      "display_name": "Python 3"
    }
  },
  "cells": [
    {
      "cell_type": "markdown",
      "metadata": {
        "id": "T6g9OcAUFpSb"
      },
      "source": [
        "# Kernel regression"
      ]
    },
    {
      "cell_type": "markdown",
      "metadata": {
        "id": "qKlxII4QFtbF"
      },
      "source": [
        "Instalar dependencias necesarias"
      ]
    },
    {
      "cell_type": "code",
      "metadata": {
        "id": "8Q7tQ83-x2NZ",
        "outputId": "97b32476-1774-4b36-9675-17d52e593904",
        "colab": {
          "base_uri": "https://localhost:8080/"
        }
      },
      "source": [
        "!pip install sklearn-extensions\n"
      ],
      "execution_count": 1,
      "outputs": [
        {
          "output_type": "stream",
          "text": [
            "Requirement already satisfied: sklearn-extensions in /usr/local/lib/python3.6/dist-packages (0.0.2)\n",
            "Requirement already satisfied: numpy>=1.9.0 in /usr/local/lib/python3.6/dist-packages (from sklearn-extensions) (1.18.5)\n",
            "Requirement already satisfied: scipy>=0.16.0 in /usr/local/lib/python3.6/dist-packages (from sklearn-extensions) (1.4.1)\n",
            "Requirement already satisfied: scikit-learn>=0.15 in /usr/local/lib/python3.6/dist-packages (from sklearn-extensions) (0.22.2.post1)\n",
            "Requirement already satisfied: joblib>=0.11 in /usr/local/lib/python3.6/dist-packages (from scikit-learn>=0.15->sklearn-extensions) (0.17.0)\n"
          ],
          "name": "stdout"
        }
      ]
    },
    {
      "cell_type": "markdown",
      "metadata": {
        "id": "PpP-JWN_FxK9"
      },
      "source": [
        "Crear modelo y entrenar"
      ]
    },
    {
      "cell_type": "code",
      "metadata": {
        "id": "nBPmyXja2X9C"
      },
      "source": [
        "from sklearn_extensions.kernel_regression import KernelRegression \n",
        "import numpy as np\n",
        "\n",
        "entrada = [ [4,1,2],[2,2,1],[2,1,4],[3,2,5],[1,1,3],[5,1,5],[5,2,4],[3,4,2],[3,2,6],[2,2,8],[3,4,2] ]\n",
        "salida = np.array([ [224000],[113000],[144000],[212000],[92000],[260000],[300000],[175000],[224000],[194000],[178000] ]).ravel()\n",
        "\n",
        "kr_modelo = KernelRegression(kernel=\"rbf\", gamma=200)\n",
        "kr_modelo = kr_modelo.fit(entrada, salida)\n"
      ],
      "execution_count": 2,
      "outputs": []
    },
    {
      "cell_type": "markdown",
      "metadata": {
        "id": "heXwH7gcF0k4"
      },
      "source": [
        "Realizar predicciones"
      ]
    },
    {
      "cell_type": "code",
      "metadata": {
        "id": "Ms-tDJVd2ajn",
        "outputId": "2e7f35f8-6f25-4dec-98a5-7b2e63a7fdeb",
        "colab": {
          "base_uri": "https://localhost:8080/"
        }
      },
      "source": [
        "kr_modelo.predict([[4,2,5]])"
      ],
      "execution_count": 3,
      "outputs": [
        {
          "output_type": "execute_result",
          "data": {
            "text/plain": [
              "array([212000.])"
            ]
          },
          "metadata": {
            "tags": []
          },
          "execution_count": 3
        }
      ]
    }
  ]
}