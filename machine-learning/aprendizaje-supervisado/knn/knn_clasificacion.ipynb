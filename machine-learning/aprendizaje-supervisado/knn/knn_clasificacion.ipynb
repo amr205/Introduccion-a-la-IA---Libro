{
  "nbformat": 4,
  "nbformat_minor": 0,
  "metadata": {
    "colab": {
      "name": "knn_clasificacion.ipynb",
      "provenance": []
    },
    "kernelspec": {
      "name": "python3",
      "display_name": "Python 3"
    }
  },
  "cells": [
    {
      "cell_type": "markdown",
      "metadata": {
        "id": "HsBnyfZC0Sgp"
      },
      "source": [
        "# Clasificación mediante KNN"
      ]
    },
    {
      "cell_type": "code",
      "metadata": {
        "id": "czSKq6qt0Xke"
      },
      "source": [
        "from sklearn.neighbors import KNeighborsClassifier"
      ],
      "execution_count": 1,
      "outputs": []
    },
    {
      "cell_type": "markdown",
      "metadata": {
        "id": "-DW-34mo1TcB"
      },
      "source": [
        "### Crear variables iniciales"
      ]
    },
    {
      "cell_type": "code",
      "metadata": {
        "id": "wfQApHYDn1po"
      },
      "source": [
        "entrada = [ [0.4,0.8,0.2],[0.2,0.7,0.9],[0.9,0.8,0.9],[0.8,0.1,0]]\n",
        "salida = [ 'positiva', 'positiva', 'negativa', 'negativa']\n",
        "k=3"
      ],
      "execution_count": 2,
      "outputs": []
    },
    {
      "cell_type": "markdown",
      "metadata": {
        "id": "ibxcoBTe1Wrx"
      },
      "source": [
        "### Crear y entrenar modelo"
      ]
    },
    {
      "cell_type": "code",
      "metadata": {
        "id": "gVCDuzx_1Vmx",
        "colab": {
          "base_uri": "https://localhost:8080/"
        },
        "outputId": "a5c33f3c-897b-46d4-e854-328fe2a5f272"
      },
      "source": [
        "knn_model = KNeighborsClassifier(n_neighbors=k)\n",
        "knn_model.fit(entrada,salida)"
      ],
      "execution_count": 3,
      "outputs": [
        {
          "output_type": "execute_result",
          "data": {
            "text/plain": [
              "KNeighborsClassifier(algorithm='auto', leaf_size=30, metric='minkowski',\n",
              "                     metric_params=None, n_jobs=None, n_neighbors=3, p=2,\n",
              "                     weights='uniform')"
            ]
          },
          "metadata": {
            "tags": []
          },
          "execution_count": 3
        }
      ]
    },
    {
      "cell_type": "markdown",
      "metadata": {
        "id": "_CHQXKs12FDJ"
      },
      "source": [
        "Aquí como función para medir la distancia entre los elementos utiliza minkowski con p = 2, donde p es el parámetro llamado q en el libro, cuando q es igual a 2 la distancia minkowski es igual a la distancia euclidiana."
      ]
    },
    {
      "cell_type": "markdown",
      "metadata": {
        "id": "KA9JJhiD1rLE"
      },
      "source": [
        "### Realizar predicciones"
      ]
    },
    {
      "cell_type": "code",
      "metadata": {
        "id": "YppvG9Hs1pPP",
        "colab": {
          "base_uri": "https://localhost:8080/"
        },
        "outputId": "9556b127-463a-46d1-a411-021c880f9c2b"
      },
      "source": [
        "knn_model.predict([[0.7,0.2,0.1]])"
      ],
      "execution_count": 4,
      "outputs": [
        {
          "output_type": "execute_result",
          "data": {
            "text/plain": [
              "array(['negativa'], dtype='<U8')"
            ]
          },
          "metadata": {
            "tags": []
          },
          "execution_count": 4
        }
      ]
    },
    {
      "cell_type": "code",
      "metadata": {
        "id": "7HIRwFIKsJgx"
      },
      "source": [
        ""
      ],
      "execution_count": null,
      "outputs": []
    }
  ]
}