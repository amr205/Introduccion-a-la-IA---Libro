{
  "nbformat": 4,
  "nbformat_minor": 0,
  "metadata": {
    "colab": {
      "name": "knn_regresion.ipynb",
      "provenance": []
    },
    "kernelspec": {
      "name": "python3",
      "display_name": "Python 3"
    }
  },
  "cells": [
    {
      "cell_type": "markdown",
      "metadata": {
        "id": "HsBnyfZC0Sgp"
      },
      "source": [
        "# Regresión mediante KNN"
      ]
    },
    {
      "cell_type": "code",
      "metadata": {
        "id": "czSKq6qt0Xke"
      },
      "source": [
        "from sklearn.neighbors import KNeighborsRegressor"
      ],
      "execution_count": 1,
      "outputs": []
    },
    {
      "cell_type": "markdown",
      "metadata": {
        "id": "-DW-34mo1TcB"
      },
      "source": [
        "### Crear variables iniciales"
      ]
    },
    {
      "cell_type": "code",
      "metadata": {
        "id": "wfQApHYDn1po"
      },
      "source": [
        "entrada = [ [4,1,2],[2,2,1],[2,1,4],[3,2,5],[1,1,3],[5,1,5],[5,2,4],[3,4,2],[3,2,6],[2,2,8],[3,4,2] ]\n",
        "salida = [ [224000],[113000],[144000],[212000],[92000],[260000],[300000],[175000],[224000],[194000],[178000] ]\n",
        "k=2"
      ],
      "execution_count": 2,
      "outputs": []
    },
    {
      "cell_type": "markdown",
      "metadata": {
        "id": "ibxcoBTe1Wrx"
      },
      "source": [
        "### Crear y entrenar modelo"
      ]
    },
    {
      "cell_type": "code",
      "metadata": {
        "id": "gVCDuzx_1Vmx",
        "outputId": "6cf6bfc1-dd1f-4174-90df-e0f5557043a9",
        "colab": {
          "base_uri": "https://localhost:8080/"
        }
      },
      "source": [
        "knn_model = KNeighborsRegressor(n_neighbors=k)\n",
        "knn_model.fit(entrada,salida)"
      ],
      "execution_count": 3,
      "outputs": [
        {
          "output_type": "execute_result",
          "data": {
            "text/plain": [
              "KNeighborsRegressor(algorithm='auto', leaf_size=30, metric='minkowski',\n",
              "                    metric_params=None, n_jobs=None, n_neighbors=2, p=2,\n",
              "                    weights='uniform')"
            ]
          },
          "metadata": {
            "tags": []
          },
          "execution_count": 3
        }
      ]
    },
    {
      "cell_type": "markdown",
      "metadata": {
        "id": "_CHQXKs12FDJ"
      },
      "source": [
        "Aquí como función para medir la distancia entre los elementos utiliza minkowski con p = 2, donde p es el parámetro llamado q en el libro, cuando q es igual a 2 la distancia minkowski es igual a la distancia euclidiana.\n",
        "\n",
        "Otra cosa a observar es que esta usando los pesos de manera uniforme lo que e equivalente a usar el promedio."
      ]
    },
    {
      "cell_type": "markdown",
      "metadata": {
        "id": "KA9JJhiD1rLE"
      },
      "source": [
        "### Realizar predicciones"
      ]
    },
    {
      "cell_type": "code",
      "metadata": {
        "id": "YppvG9Hs1pPP",
        "outputId": "5de71e24-bae0-44ac-bd40-dcfbda9be1cb",
        "colab": {
          "base_uri": "https://localhost:8080/"
        }
      },
      "source": [
        "knn_model.predict([[4,2,5]])"
      ],
      "execution_count": 4,
      "outputs": [
        {
          "output_type": "execute_result",
          "data": {
            "text/plain": [
              "array([[236000.]])"
            ]
          },
          "metadata": {
            "tags": []
          },
          "execution_count": 4
        }
      ]
    }
  ]
}