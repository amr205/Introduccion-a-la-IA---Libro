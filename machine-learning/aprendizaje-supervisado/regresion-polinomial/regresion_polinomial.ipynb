{
  "nbformat": 4,
  "nbformat_minor": 0,
  "metadata": {
    "colab": {
      "name": "Regresion-lineal.ipynb",
      "provenance": []
    },
    "kernelspec": {
      "name": "python3",
      "display_name": "Python 3"
    }
  },
  "cells": [
    {
      "cell_type": "markdown",
      "metadata": {
        "id": "7E8HdmFeHdJC"
      },
      "source": [
        "# Regresión polinomial\n"
      ]
    },
    {
      "cell_type": "code",
      "metadata": {
        "id": "JzA365XBFmy5"
      },
      "source": [
        "import numpy as np\n",
        "from sklearn.linear_model import LinearRegression\n",
        "from sklearn.preprocessing import PolynomialFeatures"
      ],
      "execution_count": 1,
      "outputs": []
    },
    {
      "cell_type": "markdown",
      "metadata": {
        "id": "LgmpfdBUHl8s"
      },
      "source": [
        "### Crear datos para crear el modelo"
      ]
    },
    {
      "cell_type": "code",
      "metadata": {
        "id": "uEnzMpKzGKYX"
      },
      "source": [
        "entrada = np.array([[-0.9],[-0.6],[-0.7],[-0.4],[-0.4],[0],[0.19],[0.6676],[0.6321],[0.8],[1.29],[1.07],[1.4],[1.16],[1.521],[1.2] ])\n",
        "salida = np.array([ [6.29],[5.98],[5.38],[4.82],[4.224],[4.79],[4.93],[5.41],[4.499],[4.05],[3.434],[1.9],[1.7],[1.01],[0.3],[0.156] ])\n",
        "nuevas_instancias = np.array([[0.89],[1.15]])"
      ],
      "execution_count": 2,
      "outputs": []
    },
    {
      "cell_type": "markdown",
      "metadata": {
        "id": "4ri0aIIpaaXp"
      },
      "source": [
        "### Crear las características polinomiales"
      ]
    },
    {
      "cell_type": "code",
      "metadata": {
        "id": "zuQQ9rQaamkM"
      },
      "source": [
        "poly = PolynomialFeatures(2)\n",
        "entrada =  poly.fit_transform(entrada)\n",
        "nuevas_instancias = poly.transform(nuevas_instancias)"
      ],
      "execution_count": 3,
      "outputs": []
    },
    {
      "cell_type": "markdown",
      "metadata": {
        "id": "r4mvRlvmHuux"
      },
      "source": [
        "### Crear el modelo, entrenarlo y visualizar los parámetros"
      ]
    },
    {
      "cell_type": "code",
      "metadata": {
        "id": "0KXrmKbIG0-A",
        "outputId": "2210786c-79ab-4a39-bbdb-cd8a55f1a990",
        "colab": {
          "base_uri": "https://localhost:8080/"
        }
      },
      "source": [
        "reg = LinearRegression().fit(entrada, salida)\n",
        "\n",
        "print(reg.coef_)\n",
        "print(reg.intercept_)"
      ],
      "execution_count": 4,
      "outputs": [
        {
          "output_type": "stream",
          "text": [
            "[[ 0.         -1.28859377 -1.10317941]]\n",
            "[5.15954268]\n"
          ],
          "name": "stdout"
        }
      ]
    },
    {
      "cell_type": "markdown",
      "metadata": {
        "id": "eqjokHfWHzf7"
      },
      "source": [
        "### Predecir el valor de nuevas instancias"
      ]
    },
    {
      "cell_type": "code",
      "metadata": {
        "id": "2jGypvFjHNln",
        "outputId": "2317bd7e-beb9-4f78-fd64-7f23d6d8b3fa",
        "colab": {
          "base_uri": "https://localhost:8080/"
        }
      },
      "source": [
        "reg.predict(nuevas_instancias)"
      ],
      "execution_count": 5,
      "outputs": [
        {
          "output_type": "execute_result",
          "data": {
            "text/plain": [
              "array([[3.13886581],\n",
              "       [2.21870507]])"
            ]
          },
          "metadata": {
            "tags": []
          },
          "execution_count": 5
        }
      ]
    }
  ]
}